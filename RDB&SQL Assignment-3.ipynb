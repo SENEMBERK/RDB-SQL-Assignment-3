{
 "cells": [
  {
   "cell_type": "code",
   "execution_count": null,
   "id": "e41f742d",
   "metadata": {},
   "outputs": [],
   "source": [
    "USE SampleRetail\n",
    "\n",
    "SELECT\tDISTINCT product_id, quantity, discount\n",
    "FROM\tsale.order_item\n",
    "ORDER BY\tproduct_id, discount;\n",
    "\n",
    "\n",
    "SELECT\tproduct_id, discount, sum(quantity)\n",
    "FROM\tsale.order_item\n",
    "GROUP BY\tproduct_id, discount\n",
    "ORDER BY\tproduct_id, discount;\n",
    "\n",
    "\n",
    "WITH T1 AS \n",
    "(\n",
    "\tSELECT\tproduct_id, discount, sum(quantity) total_quantity\n",
    "\tFROM\tSALE.order_item\n",
    "\tGROUP BY product_id, discount\n",
    ") , T2 AS\n",
    "(\n",
    "\tSELECT\t*,\n",
    "\t\t\tFIRST_VALUE(total_quantity) OVER (PARTITION BY product_id ORDER BY discount) lower_dis_quan,\n",
    "\t\t\tLAST_VALUE(total_quantity) OVER (PARTITION BY product_id ORDER BY discount ROWS BETWEEN UNBOUNDED PRECEDING AND UNBOUNDED FOLLOWING) higher_dis_quan\t\n",
    "\tFROM\tT1\n",
    "), T3 AS (\n",
    "SELECT\tDISTINCT product_id,  1.0*(higher_dis_quan - lower_dis_quan) / lower_dis_quan increase_rate\n",
    "FROM\tT2\n",
    ")\n",
    "SELECT\tproduct_id,\n",
    "\t\tCASE WHEN increase_rate >= 0.05 THEN 'positive'\n",
    "\t\t\tWHEN increase_rate <= - 0.05 THEN 'negative'\n",
    "\t\t\tELSE 'nötr'\n",
    "\t\tEND\tdiscount_effect\n",
    "FROM\tT3\n",
    ";"
   ]
  }
 ],
 "metadata": {
  "kernelspec": {
   "display_name": "Python 3 (ipykernel)",
   "language": "python",
   "name": "python3"
  },
  "language_info": {
   "codemirror_mode": {
    "name": "ipython",
    "version": 3
   },
   "file_extension": ".py",
   "mimetype": "text/x-python",
   "name": "python",
   "nbconvert_exporter": "python",
   "pygments_lexer": "ipython3",
   "version": "3.9.12"
  }
 },
 "nbformat": 4,
 "nbformat_minor": 5
}
